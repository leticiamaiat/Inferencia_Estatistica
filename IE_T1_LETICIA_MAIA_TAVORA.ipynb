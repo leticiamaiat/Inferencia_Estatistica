{
  "cells": [
    {
      "cell_type": "markdown",
      "source": [
        "# T1 - Inferencia Estatistica"
      ],
      "metadata": {
        "id": "QIHtPz77KjZm"
      }
    },
    {
      "cell_type": "markdown",
      "source": [
        "Em sua investigação, defina o valor de lambda como igual a 0,2 para todas as simulações que você realizar. Sua investigação deve abranger a distribuição de médias de 40 exponenciais i.e., o tamanho de suas amostras\n",
        "deve ser n = 40). Além disso, sua investigação deve usar 1000 simulações\n",
        "(i.e., a quantidade de amostras deve ser igual a 1000).\n",
        "\n",
        "\n"
      ],
      "metadata": {
        "id": "zIt6Hr78KsSe"
      }
    },
    {
      "cell_type": "code",
      "source": [
        "from scipy . stats import expon\n",
        "import\n",
        "lam = 0.2\n",
        "n = 1000\n",
        "simulacoes = []\n",
        "\n",
        "for i in range(1000):\n",
        "  amostra = expon . rvs ( size = n , scale =1/ lam )\n",
        "  simulacoes.append(amostra)\n",
        "\n",
        "hist(simulacoes)\n",
        "\n"
      ],
      "metadata": {
        "id": "ZM4C1hckK7xM",
        "outputId": "706bc23b-7a28-44cd-9733-474edc211fa9",
        "colab": {
          "base_uri": "https://localhost:8080/",
          "height": 228
        }
      },
      "execution_count": 10,
      "outputs": [
        {
          "output_type": "error",
          "ename": "NameError",
          "evalue": "ignored",
          "traceback": [
            "\u001b[0;31m---------------------------------------------------------------------------\u001b[0m",
            "\u001b[0;31mNameError\u001b[0m                                 Traceback (most recent call last)",
            "\u001b[0;32m<ipython-input-10-c539c7417d20>\u001b[0m in \u001b[0;36m<cell line: 10>\u001b[0;34m()\u001b[0m\n\u001b[1;32m      8\u001b[0m   \u001b[0msimulacoes\u001b[0m\u001b[0;34m.\u001b[0m\u001b[0mappend\u001b[0m\u001b[0;34m(\u001b[0m\u001b[0mamostra\u001b[0m\u001b[0;34m)\u001b[0m\u001b[0;34m\u001b[0m\u001b[0;34m\u001b[0m\u001b[0m\n\u001b[1;32m      9\u001b[0m \u001b[0;34m\u001b[0m\u001b[0m\n\u001b[0;32m---> 10\u001b[0;31m \u001b[0mhist\u001b[0m\u001b[0;34m(\u001b[0m\u001b[0msimulacoes\u001b[0m\u001b[0;34m)\u001b[0m\u001b[0;34m\u001b[0m\u001b[0;34m\u001b[0m\u001b[0m\n\u001b[0m\u001b[1;32m     11\u001b[0m \u001b[0;34m\u001b[0m\u001b[0m\n",
            "\u001b[0;31mNameError\u001b[0m: name 'hist' is not defined"
          ]
        }
      ]
    }
  ],
  "metadata": {
    "colab": {
      "name": "Welcome To Colaboratory",
      "toc_visible": true,
      "provenance": []
    },
    "kernelspec": {
      "display_name": "Python 3",
      "name": "python3"
    }
  },
  "nbformat": 4,
  "nbformat_minor": 0
}